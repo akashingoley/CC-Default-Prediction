{
 "cells": [
  {
   "cell_type": "code",
   "execution_count": 1,
   "metadata": {
    "execution": {
     "iopub.execute_input": "2021-10-08T10:34:40.988822Z",
     "iopub.status.busy": "2021-10-08T10:34:40.988183Z",
     "iopub.status.idle": "2021-10-08T10:34:42.384206Z",
     "shell.execute_reply": "2021-10-08T10:34:42.383544Z",
     "shell.execute_reply.started": "2021-10-08T10:14:29.804116Z"
    },
    "papermill": {
     "duration": 1.426771,
     "end_time": "2021-10-08T10:34:42.384349",
     "exception": false,
     "start_time": "2021-10-08T10:34:40.957578",
     "status": "completed"
    },
    "tags": []
   },
   "outputs": [],
   "source": [
    "import numpy as np\n",
    "import pandas as pd\n",
    "import matplotlib.pyplot as plt\n",
    "import seaborn as sns\n",
    "from sklearn.model_selection import train_test_split\n",
    "from sklearn.linear_model import LogisticRegression, RidgeClassifier # Model 1 or Base Model\n",
    "from sklearn.ensemble import RandomForestClassifier # Model 2\n",
    "from sklearn.tree import DecisionTreeClassifier # Model 3\n",
    "from sklearn.model_selection import RandomizedSearchCV # Model 4\n",
    "from sklearn.metrics import confusion_matrix\n",
    "from sklearn.metrics import classification_report\n",
    "from sklearn.metrics import plot_confusion_matrix\n",
    "from sklearn.preprocessing import StandardScaler\n",
    "import pickle"
   ]
  },
  {
   "cell_type": "markdown",
   "metadata": {
    "papermill": {
     "duration": 0.024544,
     "end_time": "2021-10-08T10:34:42.434563",
     "exception": false,
     "start_time": "2021-10-08T10:34:42.410019",
     "status": "completed"
    },
    "tags": []
   },
   "source": [
    "# Data importing and Basic Data Analysis"
   ]
  },
  {
   "cell_type": "code",
   "execution_count": 2,
   "metadata": {
    "execution": {
     "iopub.execute_input": "2021-10-08T10:34:42.488567Z",
     "iopub.status.busy": "2021-10-08T10:34:42.487830Z",
     "iopub.status.idle": "2021-10-08T10:34:42.665750Z",
     "shell.execute_reply": "2021-10-08T10:34:42.666643Z",
     "shell.execute_reply.started": "2021-10-08T10:14:31.268648Z"
    },
    "papermill": {
     "duration": 0.208285,
     "end_time": "2021-10-08T10:34:42.666981",
     "exception": false,
     "start_time": "2021-10-08T10:34:42.458696",
     "status": "completed"
    },
    "tags": []
   },
   "outputs": [
    {
     "name": "stdout",
     "output_type": "stream",
     "text": [
      "<class 'pandas.core.frame.DataFrame'>\n",
      "RangeIndex: 30000 entries, 0 to 29999\n",
      "Data columns (total 25 columns):\n",
      " #   Column                      Non-Null Count  Dtype  \n",
      "---  ------                      --------------  -----  \n",
      " 0   ID                          30000 non-null  int64  \n",
      " 1   LIMIT_BAL                   30000 non-null  float64\n",
      " 2   SEX                         30000 non-null  int64  \n",
      " 3   EDUCATION                   30000 non-null  int64  \n",
      " 4   MARRIAGE                    30000 non-null  int64  \n",
      " 5   AGE                         30000 non-null  int64  \n",
      " 6   PAY_0                       30000 non-null  int64  \n",
      " 7   PAY_2                       30000 non-null  int64  \n",
      " 8   PAY_3                       30000 non-null  int64  \n",
      " 9   PAY_4                       30000 non-null  int64  \n",
      " 10  PAY_5                       30000 non-null  int64  \n",
      " 11  PAY_6                       30000 non-null  int64  \n",
      " 12  BILL_AMT1                   30000 non-null  float64\n",
      " 13  BILL_AMT2                   30000 non-null  float64\n",
      " 14  BILL_AMT3                   30000 non-null  float64\n",
      " 15  BILL_AMT4                   30000 non-null  float64\n",
      " 16  BILL_AMT5                   30000 non-null  float64\n",
      " 17  BILL_AMT6                   30000 non-null  float64\n",
      " 18  PAY_AMT1                    30000 non-null  float64\n",
      " 19  PAY_AMT2                    30000 non-null  float64\n",
      " 20  PAY_AMT3                    30000 non-null  float64\n",
      " 21  PAY_AMT4                    30000 non-null  float64\n",
      " 22  PAY_AMT5                    30000 non-null  float64\n",
      " 23  PAY_AMT6                    30000 non-null  float64\n",
      " 24  default.payment.next.month  30000 non-null  int64  \n",
      "dtypes: float64(13), int64(12)\n",
      "memory usage: 5.7 MB\n"
     ]
    }
   ],
   "source": [
    "df = pd.read_csv(\".\\Credit_card.csv\")\n",
    "\n",
    "df.info()"
   ]
  },
  {
   "cell_type": "code",
   "execution_count": 3,
   "metadata": {
    "execution": {
     "iopub.execute_input": "2021-10-08T10:34:42.724556Z",
     "iopub.status.busy": "2021-10-08T10:34:42.723810Z",
     "iopub.status.idle": "2021-10-08T10:34:42.734557Z",
     "shell.execute_reply": "2021-10-08T10:34:42.735092Z",
     "shell.execute_reply.started": "2021-10-08T10:14:31.474000Z"
    },
    "papermill": {
     "duration": 0.04194,
     "end_time": "2021-10-08T10:34:42.735280",
     "exception": false,
     "start_time": "2021-10-08T10:34:42.693340",
     "status": "completed"
    },
    "tags": []
   },
   "outputs": [
    {
     "name": "stdout",
     "output_type": "stream",
     "text": [
      "Number of Null values\n",
      "ID                            0\n",
      "LIMIT_BAL                     0\n",
      "SEX                           0\n",
      "EDUCATION                     0\n",
      "MARRIAGE                      0\n",
      "AGE                           0\n",
      "PAY_0                         0\n",
      "PAY_2                         0\n",
      "PAY_3                         0\n",
      "PAY_4                         0\n",
      "PAY_5                         0\n",
      "PAY_6                         0\n",
      "BILL_AMT1                     0\n",
      "BILL_AMT2                     0\n",
      "BILL_AMT3                     0\n",
      "BILL_AMT4                     0\n",
      "BILL_AMT5                     0\n",
      "BILL_AMT6                     0\n",
      "PAY_AMT1                      0\n",
      "PAY_AMT2                      0\n",
      "PAY_AMT3                      0\n",
      "PAY_AMT4                      0\n",
      "PAY_AMT5                      0\n",
      "PAY_AMT6                      0\n",
      "default.payment.next.month    0\n",
      "dtype: int64\n",
      "\n",
      "Number of ? values\n",
      "ID                            0\n",
      "LIMIT_BAL                     0\n",
      "SEX                           0\n",
      "EDUCATION                     0\n",
      "MARRIAGE                      0\n",
      "AGE                           0\n",
      "PAY_0                         0\n",
      "PAY_2                         0\n",
      "PAY_3                         0\n",
      "PAY_4                         0\n",
      "PAY_5                         0\n",
      "PAY_6                         0\n",
      "BILL_AMT1                     0\n",
      "BILL_AMT2                     0\n",
      "BILL_AMT3                     0\n",
      "BILL_AMT4                     0\n",
      "BILL_AMT5                     0\n",
      "BILL_AMT6                     0\n",
      "PAY_AMT1                      0\n",
      "PAY_AMT2                      0\n",
      "PAY_AMT3                      0\n",
      "PAY_AMT4                      0\n",
      "PAY_AMT5                      0\n",
      "PAY_AMT6                      0\n",
      "default.payment.next.month    0\n",
      "dtype: int64\n",
      "Number of 0 values\n",
      "ID                                0\n",
      "LIMIT_BAL                         0\n",
      "SEX                               0\n",
      "EDUCATION                        14\n",
      "MARRIAGE                         54\n",
      "AGE                               0\n",
      "PAY_0                         14737\n",
      "PAY_2                         15730\n",
      "PAY_3                         15764\n",
      "PAY_4                         16455\n",
      "PAY_5                         16947\n",
      "PAY_6                         16286\n",
      "BILL_AMT1                      2008\n",
      "BILL_AMT2                      2506\n",
      "BILL_AMT3                      2870\n",
      "BILL_AMT4                      3195\n",
      "BILL_AMT5                      3506\n",
      "BILL_AMT6                      4020\n",
      "PAY_AMT1                       5249\n",
      "PAY_AMT2                       5396\n",
      "PAY_AMT3                       5968\n",
      "PAY_AMT4                       6408\n",
      "PAY_AMT5                       6703\n",
      "PAY_AMT6                       7173\n",
      "default.payment.next.month    23364\n",
      "dtype: int64\n"
     ]
    }
   ],
   "source": [
    "# We can not see any null values but we will still look for null values just in case\n",
    "print('Number of Null values')\n",
    "print(df.isnull().sum())\n",
    "print()\n",
    "print('Number of ? values')\n",
    "print((df == '?').sum())\n",
    "print('Number of 0 values')\n",
    "print((df == 0).sum())"
   ]
  },
  {
   "cell_type": "markdown",
   "metadata": {},
   "source": [
    "We can see there are 0 values in Education, Marriage, and PAY_0 to PAY_6 where 0 value has no place"
   ]
  },
  {
   "cell_type": "code",
   "execution_count": 4,
   "metadata": {
    "execution": {
     "iopub.execute_input": "2021-10-08T10:34:42.796238Z",
     "iopub.status.busy": "2021-10-08T10:34:42.795525Z",
     "iopub.status.idle": "2021-10-08T10:34:42.797470Z",
     "shell.execute_reply": "2021-10-08T10:34:42.797976Z",
     "shell.execute_reply.started": "2021-10-08T10:14:31.491296Z"
    },
    "papermill": {
     "duration": 0.037253,
     "end_time": "2021-10-08T10:34:42.798167",
     "exception": false,
     "start_time": "2021-10-08T10:34:42.760914",
     "status": "completed"
    },
    "tags": []
   },
   "outputs": [],
   "source": [
    "categorical_cols = ['SEX','EDUCATION','MARRIAGE','AGE','PAY_0','PAY_2','PAY_3','PAY_4','PAY_5','PAY_6','default.payment.next.month']\n",
    "numerical_cols = df.drop(['ID','SEX','EDUCATION','MARRIAGE','AGE','PAY_0','PAY_2','PAY_3','PAY_4','PAY_5','PAY_6','default.payment.next.month'], axis=1)"
   ]
  },
  {
   "cell_type": "code",
   "execution_count": 5,
   "metadata": {
    "execution": {
     "iopub.execute_input": "2021-10-08T10:34:42.852082Z",
     "iopub.status.busy": "2021-10-08T10:34:42.851258Z",
     "iopub.status.idle": "2021-10-08T10:34:42.916208Z",
     "shell.execute_reply": "2021-10-08T10:34:42.915306Z",
     "shell.execute_reply.started": "2021-10-08T10:14:31.503892Z"
    },
    "papermill": {
     "duration": 0.092831,
     "end_time": "2021-10-08T10:34:42.916395",
     "exception": false,
     "start_time": "2021-10-08T10:34:42.823564",
     "status": "completed"
    },
    "tags": []
   },
   "outputs": [
    {
     "name": "stdout",
     "output_type": "stream",
     "text": [
      "Describing numerical columns\n",
      "            LIMIT_BAL      BILL_AMT1      BILL_AMT2     BILL_AMT3  \\\n",
      "count    30000.000000   30000.000000   30000.000000  3.000000e+04   \n",
      "mean    167484.322667   51223.330900   49179.075167  4.701315e+04   \n",
      "std     129747.661567   73635.860576   71173.768783  6.934939e+04   \n",
      "min      10000.000000 -165580.000000  -69777.000000 -1.572640e+05   \n",
      "25%      50000.000000    3558.750000    2984.750000  2.666250e+03   \n",
      "50%     140000.000000   22381.500000   21200.000000  2.008850e+04   \n",
      "75%     240000.000000   67091.000000   64006.250000  6.016475e+04   \n",
      "max    1000000.000000  964511.000000  983931.000000  1.664089e+06   \n",
      "\n",
      "           BILL_AMT4      BILL_AMT5      BILL_AMT6       PAY_AMT1  \\\n",
      "count   30000.000000   30000.000000   30000.000000   30000.000000   \n",
      "mean    43262.948967   40311.400967   38871.760400    5663.580500   \n",
      "std     64332.856134   60797.155770   59554.107537   16563.280354   \n",
      "min   -170000.000000  -81334.000000 -339603.000000       0.000000   \n",
      "25%      2326.750000    1763.000000    1256.000000    1000.000000   \n",
      "50%     19052.000000   18104.500000   17071.000000    2100.000000   \n",
      "75%     54506.000000   50190.500000   49198.250000    5006.000000   \n",
      "max    891586.000000  927171.000000  961664.000000  873552.000000   \n",
      "\n",
      "           PAY_AMT2      PAY_AMT3       PAY_AMT4       PAY_AMT5       PAY_AMT6  \n",
      "count  3.000000e+04   30000.00000   30000.000000   30000.000000   30000.000000  \n",
      "mean   5.921163e+03    5225.68150    4826.076867    4799.387633    5215.502567  \n",
      "std    2.304087e+04   17606.96147   15666.159744   15278.305679   17777.465775  \n",
      "min    0.000000e+00       0.00000       0.000000       0.000000       0.000000  \n",
      "25%    8.330000e+02     390.00000     296.000000     252.500000     117.750000  \n",
      "50%    2.009000e+03    1800.00000    1500.000000    1500.000000    1500.000000  \n",
      "75%    5.000000e+03    4505.00000    4013.250000    4031.500000    4000.000000  \n",
      "max    1.684259e+06  896040.00000  621000.000000  426529.000000  528666.000000  \n"
     ]
    }
   ],
   "source": [
    "print('Describing numerical columns')\n",
    "print(df[numerical_cols.columns].describe())"
   ]
  },
  {
   "cell_type": "markdown",
   "metadata": {
    "papermill": {
     "duration": 0.025387,
     "end_time": "2021-10-08T10:34:42.969754",
     "exception": false,
     "start_time": "2021-10-08T10:34:42.944367",
     "status": "completed"
    },
    "tags": []
   },
   "source": [
    "# Data cleaning"
   ]
  },
  {
   "cell_type": "code",
   "execution_count": 6,
   "metadata": {
    "execution": {
     "iopub.execute_input": "2021-10-08T10:34:43.028848Z",
     "iopub.status.busy": "2021-10-08T10:34:43.027742Z",
     "iopub.status.idle": "2021-10-08T10:34:43.034108Z",
     "shell.execute_reply": "2021-10-08T10:34:43.034838Z",
     "shell.execute_reply.started": "2021-10-08T10:14:31.576205Z"
    },
    "papermill": {
     "duration": 0.039632,
     "end_time": "2021-10-08T10:34:43.035085",
     "exception": false,
     "start_time": "2021-10-08T10:34:42.995453",
     "status": "completed"
    },
    "tags": []
   },
   "outputs": [
    {
     "name": "stdout",
     "output_type": "stream",
     "text": [
      "Column names are : ['ID', 'LIMIT_BAL', 'SEX', 'EDUCATION', 'MARRIAGE', 'AGE', 'PAY_1', 'PAY_2', 'PAY_3', 'PAY_4', 'PAY_5', 'PAY_6', 'BILL_AMT1', 'BILL_AMT2', 'BILL_AMT3', 'BILL_AMT4', 'BILL_AMT5', 'BILL_AMT6', 'PAY_AMT1', 'PAY_AMT2', 'PAY_AMT3', 'PAY_AMT4', 'PAY_AMT5', 'PAY_AMT6', 'default.payment.next.month']\n"
     ]
    }
   ],
   "source": [
    "# From df.info we can see that there is no PAY_1 between PAY_0 and PAY_2\n",
    "# We can rename PAY_0 to PAY_1 becasue BILL_AMT and PAY_AMT are also starting from 1\n",
    "\n",
    "df = df.rename(columns={'PAY_0':'PAY_1'})\n",
    "\n",
    "print(f'Column names are :', list(df.columns))"
   ]
  },
  {
   "cell_type": "code",
   "execution_count": 7,
   "metadata": {
    "execution": {
     "iopub.execute_input": "2021-10-08T10:34:43.094756Z",
     "iopub.status.busy": "2021-10-08T10:34:43.093749Z",
     "iopub.status.idle": "2021-10-08T10:34:43.099924Z",
     "shell.execute_reply": "2021-10-08T10:34:43.099377Z",
     "shell.execute_reply.started": "2021-10-08T10:14:31.590096Z"
    },
    "papermill": {
     "duration": 0.038395,
     "end_time": "2021-10-08T10:34:43.100086",
     "exception": false,
     "start_time": "2021-10-08T10:34:43.061691",
     "status": "completed"
    },
    "tags": []
   },
   "outputs": [
    {
     "name": "stdout",
     "output_type": "stream",
     "text": [
      "Unique values of Education columns are: [1 2 3 4 5]\n"
     ]
    }
   ],
   "source": [
    "# From the Data Description given, we know that in df.EDUCATION, 5 and 6 represents \"unknown\"\n",
    "# Changing 6 to 5 to keep it under 1 category\n",
    "\n",
    "df['EDUCATION'] = df['EDUCATION'].replace(6,5)\n",
    "df['EDUCATION'] = df['EDUCATION'].replace(0,5)\n",
    "\n",
    "print(f'Unique values of Education columns are:',np.unique(df['EDUCATION']))"
   ]
  },
  {
   "cell_type": "code",
   "execution_count": 8,
   "metadata": {},
   "outputs": [
    {
     "name": "stdout",
     "output_type": "stream",
     "text": [
      "Unique values of Marriage columns are: [1 2 3]\n"
     ]
    }
   ],
   "source": [
    "# Changing 0 values in marriage to 3\n",
    "df['MARRIAGE'] = df['MARRIAGE'].replace(0,3)\n",
    "\n",
    "print(f'Unique values of Marriage columns are:',np.unique(df.MARRIAGE))\n"
   ]
  },
  {
   "cell_type": "code",
   "execution_count": 9,
   "metadata": {},
   "outputs": [
    {
     "name": "stdout",
     "output_type": "stream",
     "text": [
      "[-1  1  2  3  4  5  6  7  8]\n",
      "[-1  1  2  3  4  5  6  7  8]\n",
      "[-1  1  2  3  4  5  6  7  8]\n",
      "[-1  1  2  3  4  5  6  7  8]\n",
      "[-1  2  3  4  5  6  7  8]\n",
      "[-1  2  3  4  5  6  7  8]\n"
     ]
    }
   ],
   "source": [
    "# Changing 0 values in PAY_1 to PAY_6 to median of their respective column\n",
    "df['PAY_1'] = df['PAY_1'].replace(0, -1)\n",
    "df['PAY_1'] = df['PAY_1'].replace(-2, -1)\n",
    "print(np.unique(df['PAY_1']))\n",
    "df['PAY_2'] = df['PAY_2'].replace(0, -1)\n",
    "df['PAY_2'] = df['PAY_2'].replace(-2, -1)\n",
    "print(np.unique(df['PAY_2']))\n",
    "df['PAY_3'] = df['PAY_3'].replace(0, -1)\n",
    "df['PAY_3'] = df['PAY_3'].replace(-2, -1)\n",
    "print(np.unique(df['PAY_3']))\n",
    "df['PAY_4'] = df['PAY_4'].replace(0, -1)\n",
    "df['PAY_4'] = df['PAY_4'].replace(-2, -1)\n",
    "print(np.unique(df['PAY_4']))\n",
    "df['PAY_5'] = df['PAY_5'].replace(0, -1)\n",
    "df['PAY_5'] = df['PAY_5'].replace(-2, -1)\n",
    "print(np.unique(df['PAY_5']))\n",
    "df['PAY_6'] = df['PAY_6'].replace(0, -1)\n",
    "df['PAY_6'] = df['PAY_6'].replace(-2, -1)\n",
    "print(np.unique(df['PAY_6']))"
   ]
  },
  {
   "cell_type": "code",
   "execution_count": 10,
   "metadata": {},
   "outputs": [
    {
     "name": "stdout",
     "output_type": "stream",
     "text": [
      "Number of 0 values\n",
      "ID                                0\n",
      "LIMIT_BAL                         0\n",
      "SEX                               0\n",
      "EDUCATION                         0\n",
      "MARRIAGE                          0\n",
      "AGE                               0\n",
      "PAY_1                             0\n",
      "PAY_2                             0\n",
      "PAY_3                             0\n",
      "PAY_4                             0\n",
      "PAY_5                             0\n",
      "PAY_6                             0\n",
      "BILL_AMT1                      2008\n",
      "BILL_AMT2                      2506\n",
      "BILL_AMT3                      2870\n",
      "BILL_AMT4                      3195\n",
      "BILL_AMT5                      3506\n",
      "BILL_AMT6                      4020\n",
      "PAY_AMT1                       5249\n",
      "PAY_AMT2                       5396\n",
      "PAY_AMT3                       5968\n",
      "PAY_AMT4                       6408\n",
      "PAY_AMT5                       6703\n",
      "PAY_AMT6                       7173\n",
      "default.payment.next.month    23364\n",
      "dtype: int64\n"
     ]
    }
   ],
   "source": [
    "print('Number of 0 values')\n",
    "print((df == 0).sum())"
   ]
  },
  {
   "cell_type": "code",
   "execution_count": 11,
   "metadata": {
    "execution": {
     "iopub.execute_input": "2021-10-08T10:34:43.161125Z",
     "iopub.status.busy": "2021-10-08T10:34:43.160450Z",
     "iopub.status.idle": "2021-10-08T10:34:43.163354Z",
     "shell.execute_reply": "2021-10-08T10:34:43.163844Z",
     "shell.execute_reply.started": "2021-10-08T10:14:31.599776Z"
    },
    "papermill": {
     "duration": 0.037547,
     "end_time": "2021-10-08T10:34:43.164007",
     "exception": false,
     "start_time": "2021-10-08T10:34:43.126460",
     "status": "completed"
    },
    "tags": []
   },
   "outputs": [
    {
     "name": "stdout",
     "output_type": "stream",
     "text": [
      "Index(['LIMIT_BAL', 'SEX', 'EDUCATION', 'MARRIAGE', 'AGE', 'PAY_1', 'PAY_2',\n",
      "       'PAY_3', 'PAY_4', 'PAY_5', 'PAY_6', 'BILL_AMT1', 'BILL_AMT2',\n",
      "       'BILL_AMT3', 'BILL_AMT4', 'BILL_AMT5', 'BILL_AMT6', 'PAY_AMT1',\n",
      "       'PAY_AMT2', 'PAY_AMT3', 'PAY_AMT4', 'PAY_AMT5', 'PAY_AMT6',\n",
      "       'default.payment.next.month'],\n",
      "      dtype='object')\n"
     ]
    }
   ],
   "source": [
    "# We can drop the 'ID' column as it is irrelevant to our target column\n",
    "df.drop(['ID'], axis=1, inplace=True)\n",
    "print(df.columns)"
   ]
  },
  {
   "cell_type": "markdown",
   "metadata": {
    "papermill": {
     "duration": 0.027804,
     "end_time": "2021-10-08T10:34:43.218525",
     "exception": false,
     "start_time": "2021-10-08T10:34:43.190721",
     "status": "completed"
    },
    "tags": []
   },
   "source": [
    "# Visualization"
   ]
  },
  {
   "cell_type": "code",
   "execution_count": 12,
   "metadata": {
    "execution": {
     "iopub.execute_input": "2021-10-08T10:34:43.284258Z",
     "iopub.status.busy": "2021-10-08T10:34:43.283175Z",
     "iopub.status.idle": "2021-10-08T10:34:43.448889Z",
     "shell.execute_reply": "2021-10-08T10:34:43.449517Z",
     "shell.execute_reply.started": "2021-10-08T10:14:31.616494Z"
    },
    "papermill": {
     "duration": 0.203854,
     "end_time": "2021-10-08T10:34:43.449771",
     "exception": false,
     "start_time": "2021-10-08T10:34:43.245917",
     "status": "completed"
    },
    "tags": []
   },
   "outputs": [
    {
     "data": {
      "image/png": "[encoded data removed]",
      "text/plain": [
       "<Figure size 432x432 with 1 Axes>"
      ]
     },
     "metadata": {
      "needs_background": "light"
     },
     "output_type": "display_data"
    }
   ],
   "source": [
    "# Percentage of people who have Deafulted and not Defaulted\n",
    "\n",
    "target_count = df.groupby('default.payment.next.month').size().reset_index(name='counts')\n",
    "\n",
    "plt.figure(figsize=(6,6))\n",
    "plt.bar(target_count['default.payment.next.month'], target_count.counts)\n",
    "plt.xticks([0,1], labels=[\"Not Deafaulted\", \"Defaulted\"])\n",
    "plt.title(\"Target Distribution\")\n",
    "\n",
    "total = len(df['default.payment.next.month'])\n",
    "not_def = len(df[df['default.payment.next.month']==0])/total *100\n",
    "yes_def = len(df[df['default.payment.next.month']==1])/total *100\n",
    "\n",
    "plt.text(x=0, y=not_def,s=str(\"%.2f\"%not_def+'%'), fontsize=12, position=(0,len(df[df['default.payment.next.month']==0])*1.006), horizontalalignment='center')\n",
    "plt.text(x=1, y=yes_def,s=str(\"%.2f\"%yes_def+'%'), fontsize=12, position=(1,len(df[df['default.payment.next.month']==1])*1.02), horizontalalignment='center')\n",
    "\n",
    "plt.show()"
   ]
  },
  {
   "cell_type": "code",
   "execution_count": 13,
   "metadata": {
    "execution": {
     "iopub.execute_input": "2021-10-08T10:34:43.513591Z",
     "iopub.status.busy": "2021-10-08T10:34:43.512896Z",
     "iopub.status.idle": "2021-10-08T10:34:43.712956Z",
     "shell.execute_reply": "2021-10-08T10:34:43.713482Z",
     "shell.execute_reply.started": "2021-10-08T10:14:31.855273Z"
    },
    "papermill": {
     "duration": 0.234885,
     "end_time": "2021-10-08T10:34:43.713655",
     "exception": false,
     "start_time": "2021-10-08T10:34:43.478770",
     "status": "completed"
    },
    "tags": []
   },
   "outputs": [
    {
     "name": "stderr",
     "output_type": "stream",
     "text": [
      "C:\\Users\\akash\\AppData\\Roaming\\Python\\Python39\\site-packages\\pandas\\core\\indexing.py:1637: SettingWithCopyWarning: \n",
      "A value is trying to be set on a copy of a slice from a DataFrame\n",
      "\n",
      "See the caveats in the documentation: https://pandas.pydata.org/pandas-docs/stable/user_guide/indexing.html#returning-a-view-versus-a-copy\n",
      "  self._setitem_single_block(indexer, value, name)\n"
     ]
    },
    {
     "name": "stdout",
     "output_type": "stream",
     "text": [
      "[1 2 3 4]\n"
     ]
    },
    {
     "data": {
      "text/plain": [
       "<Figure size 432x432 with 0 Axes>"
      ]
     },
     "metadata": {},
     "output_type": "display_data"
    },
    {
     "data": {
      "image/png": "[encoded data removed]",
      "text/plain": [
       "<Figure size 432x288 with 1 Axes>"
      ]
     },
     "metadata": {
      "needs_background": "light"
     },
     "output_type": "display_data"
    }
   ],
   "source": [
    "df['Age_category'] = [0 for i in range(len(df))]\n",
    "\n",
    "for idx, i in enumerate(df.AGE):\n",
    "    if i >= 20 and i < 30:\n",
    "        df['Age_category'].loc[idx] = 1\n",
    "    elif i >= 30 and i < 40:\n",
    "        df['Age_category'].loc[idx] = 2\n",
    "    elif i >= 40 and i < 50:\n",
    "        df['Age_category'].loc[idx] = 3\n",
    "    else:\n",
    "        df['Age_category'].loc[idx] = 4\n",
    "    \n",
    "    \n",
    "print(np.unique(df.Age_category))\n",
    "# df['Age_category'] = pd.cut(df.AGE, bins=[20,35,50,80])\n",
    "\n",
    "target_count = df.groupby(['Age_category','SEX']).AGE.count().unstack()\n",
    "\n",
    "# print(target_count)\n",
    "plt.figure(figsize=(6,6))\n",
    "target_count.plot(kind='bar', stacked=False)\n",
    "plt.xticks(rotation=0)\n",
    "plt.ylabel('Count')\n",
    "plt.legend(['Male', 'Female'])\n",
    "plt.title(\"Age and Sex counts\")\n",
    "plt.show()"
   ]
  },
  {
   "cell_type": "code",
   "execution_count": 14,
   "metadata": {
    "execution": {
     "iopub.execute_input": "2021-10-08T10:34:43.779012Z",
     "iopub.status.busy": "2021-10-08T10:34:43.778321Z",
     "iopub.status.idle": "2021-10-08T10:34:44.073411Z",
     "shell.execute_reply": "2021-10-08T10:34:44.073893Z",
     "shell.execute_reply.started": "2021-10-08T10:14:32.132060Z"
    },
    "papermill": {
     "duration": 0.332014,
     "end_time": "2021-10-08T10:34:44.074143",
     "exception": false,
     "start_time": "2021-10-08T10:34:43.742129",
     "status": "completed"
    },
    "tags": []
   },
   "outputs": [
    {
     "data": {
      "text/plain": [
       "<Figure size 432x432 with 0 Axes>"
      ]
     },
     "metadata": {},
     "output_type": "display_data"
    },
    {
     "data": {
      "image/png": "[encoded data removed]",
      "text/plain": [
       "<Figure size 432x288 with 1 Axes>"
      ]
     },
     "metadata": {
      "needs_background": "light"
     },
     "output_type": "display_data"
    }
   ],
   "source": [
    "target_count = df.groupby(['Age_category','default.payment.next.month']).AGE.count().unstack()\n",
    "\n",
    "# print(target_count)\n",
    "plt.figure(figsize=(6,6))\n",
    "target_count.plot(kind='bar', stacked=True)\n",
    "plt.xticks(rotation=0)\n",
    "plt.ylabel('Count')\n",
    "plt.legend(['Not defaulted', 'Defaulted'])\n",
    "plt.title(\"Age and People deafulted counts\")\n",
    "plt.show()"
   ]
  },
  {
   "cell_type": "code",
   "execution_count": 15,
   "metadata": {
    "execution": {
     "iopub.execute_input": "2021-10-08T10:34:44.139575Z",
     "iopub.status.busy": "2021-10-08T10:34:44.138899Z",
     "iopub.status.idle": "2021-10-08T10:34:44.314551Z",
     "shell.execute_reply": "2021-10-08T10:34:44.315105Z",
     "shell.execute_reply.started": "2021-10-08T10:14:32.547939Z"
    },
    "papermill": {
     "duration": 0.209656,
     "end_time": "2021-10-08T10:34:44.315280",
     "exception": false,
     "start_time": "2021-10-08T10:34:44.105624",
     "status": "completed"
    },
    "tags": []
   },
   "outputs": [
    {
     "data": {
      "text/plain": [
       "<Figure size 432x432 with 0 Axes>"
      ]
     },
     "metadata": {},
     "output_type": "display_data"
    },
    {
     "data": {
      "image/png": "[encoded data removed]",
      "text/plain": [
       "<Figure size 432x288 with 1 Axes>"
      ]
     },
     "metadata": {
      "needs_background": "light"
     },
     "output_type": "display_data"
    }
   ],
   "source": [
    "target_count = df.groupby(['SEX','default.payment.next.month']).SEX.count().unstack()\n",
    "\n",
    "# print(target_count)\n",
    "plt.figure(figsize=(6,6))\n",
    "target_count.plot(kind='bar', stacked=False)\n",
    "plt.xticks([0,1],labels=['Male','Female'],rotation=0)\n",
    "plt.ylabel('Count')\n",
    "plt.legend(['Not defaulted', 'Defaulted'])\n",
    "plt.title(\"Sex and People deafulted counts\")\n",
    "plt.show()"
   ]
  },
  {
   "cell_type": "code",
   "execution_count": 16,
   "metadata": {
    "execution": {
     "iopub.execute_input": "2021-10-08T10:34:44.380679Z",
     "iopub.status.busy": "2021-10-08T10:34:44.380015Z",
     "iopub.status.idle": "2021-10-08T10:34:44.875287Z",
     "shell.execute_reply": "2021-10-08T10:34:44.874753Z",
     "shell.execute_reply.started": "2021-10-08T10:14:32.784104Z"
    },
    "papermill": {
     "duration": 0.529038,
     "end_time": "2021-10-08T10:34:44.875430",
     "exception": false,
     "start_time": "2021-10-08T10:34:44.346392",
     "status": "completed"
    },
    "tags": []
   },
   "outputs": [
    {
     "name": "stderr",
     "output_type": "stream",
     "text": [
      "C:\\Users\\akash\\AppData\\Roaming\\Python\\Python39\\site-packages\\seaborn\\distributions.py:2557: FutureWarning: `distplot` is a deprecated function and will be removed in a future version. Please adapt your code to use either `displot` (a figure-level function with similar flexibility) or `histplot` (an axes-level function for histograms).\n",
      "  warnings.warn(msg, FutureWarning)\n"
     ]
    },
    {
     "data": {
      "image/png": "[encoded data removed]",
      "text/plain": [
       "<Figure size 720x360 with 1 Axes>"
      ]
     },
     "metadata": {
      "needs_background": "light"
     },
     "output_type": "display_data"
    }
   ],
   "source": [
    "plt.subplots(figsize=(10,5))\n",
    "# plt.subplot(121)\n",
    "sns.distplot(df.LIMIT_BAL)\n",
    "plt.show()"
   ]
  },
  {
   "cell_type": "code",
   "execution_count": 17,
   "metadata": {
    "execution": {
     "iopub.execute_input": "2021-10-08T10:34:44.975738Z",
     "iopub.status.busy": "2021-10-08T10:34:44.967156Z",
     "iopub.status.idle": "2021-10-08T10:34:46.008313Z",
     "shell.execute_reply": "2021-10-08T10:34:46.008816Z",
     "shell.execute_reply.started": "2021-10-08T10:14:33.342329Z"
    },
    "papermill": {
     "duration": 1.100714,
     "end_time": "2021-10-08T10:34:46.008985",
     "exception": false,
     "start_time": "2021-10-08T10:34:44.908271",
     "status": "completed"
    },
    "tags": []
   },
   "outputs": [
    {
     "data": {
      "image/png": "[encoded data removed]",
      "text/plain": [
       "<Figure size 1440x720 with 6 Axes>"
      ]
     },
     "metadata": {
      "needs_background": "light"
     },
     "output_type": "display_data"
    }
   ],
   "source": [
    "plt.subplots(figsize=(20,10))\n",
    "plt.subplot(231)\n",
    "plt.scatter(x=df.PAY_AMT1, y=df.BILL_AMT1, c='r', s=1)\n",
    "plt.xlabel('PAY_AMT1')\n",
    "plt.ylabel('BILL_AMT1')\n",
    "\n",
    "plt.subplot(232)\n",
    "plt.scatter(x=df.PAY_AMT2, y=df.BILL_AMT2, c='g', s=1)\n",
    "plt.xlabel('PAY_AMT2')\n",
    "plt.ylabel('BILL_AMT2')\n",
    "plt.title('Payment structure vs Bill amount in the last 6 months', fontsize=15)\n",
    "\n",
    "plt.subplot(233)\n",
    "plt.scatter(x=df.PAY_AMT3, y=df.BILL_AMT3, c='b', s=1)\n",
    "plt.xlabel('PAY_AMT3')\n",
    "plt.ylabel('BILL_AMT3')\n",
    "\n",
    "plt.subplot(234)\n",
    "plt.scatter(x=df.PAY_AMT4, y=df.BILL_AMT4, c='y', s=1)\n",
    "plt.xlabel('PAY_AMT4')\n",
    "plt.ylabel('BILL_AMT4')\n",
    "\n",
    "plt.subplot(235)\n",
    "plt.scatter(x=df.PAY_AMT5, y=df.BILL_AMT5, c='black', s=1)\n",
    "plt.xlabel('PAY_AMT5')\n",
    "plt.ylabel('BILL_AMT5')\n",
    "\n",
    "plt.subplot(236)\n",
    "plt.scatter(x=df.PAY_AMT6, y=df.BILL_AMT6, c='m', s=1)\n",
    "plt.xlabel('PAY_AMT6')\n",
    "plt.ylabel('BILL_AMT6')\n",
    "\n",
    "\n",
    "plt.show()"
   ]
  },
  {
   "cell_type": "markdown",
   "metadata": {
    "papermill": {
     "duration": 0.037099,
     "end_time": "2021-10-08T10:34:46.082296",
     "exception": false,
     "start_time": "2021-10-08T10:34:46.045197",
     "status": "completed"
    },
    "tags": []
   },
   "source": [
    "# Splitting the data into Train and Test"
   ]
  },
  {
   "cell_type": "code",
   "execution_count": 18,
   "metadata": {
    "execution": {
     "iopub.execute_input": "2021-10-08T10:34:46.174001Z",
     "iopub.status.busy": "2021-10-08T10:34:46.169499Z",
     "iopub.status.idle": "2021-10-08T10:34:46.188153Z",
     "shell.execute_reply": "2021-10-08T10:34:46.188655Z",
     "shell.execute_reply.started": "2021-10-08T10:14:34.489872Z"
    },
    "papermill": {
     "duration": 0.0706,
     "end_time": "2021-10-08T10:34:46.188825",
     "exception": false,
     "start_time": "2021-10-08T10:34:46.118225",
     "status": "completed"
    },
    "tags": []
   },
   "outputs": [
    {
     "data": {
      "text/html": [
       "<div>\n",
       "<style scoped>\n",
       "    .dataframe tbody tr th:only-of-type {\n",
       "        vertical-align: middle;\n",
       "    }\n",
       "\n",
       "    .dataframe tbody tr th {\n",
       "        vertical-align: top;\n",
       "    }\n",
       "\n",
       "    .dataframe thead th {\n",
       "        text-align: right;\n",
       "    }\n",
       "</style>\n",
       "<table border=\"1\" class=\"dataframe\">\n",
       "  <thead>\n",
       "    <tr style=\"text-align: right;\">\n",
       "      <th></th>\n",
       "      <th>LIMIT_BAL</th>\n",
       "      <th>SEX</th>\n",
       "      <th>EDUCATION</th>\n",
       "      <th>MARRIAGE</th>\n",
       "      <th>AGE</th>\n",
       "      <th>PAY_1</th>\n",
       "      <th>PAY_2</th>\n",
       "      <th>PAY_3</th>\n",
       "      <th>PAY_4</th>\n",
       "      <th>PAY_5</th>\n",
       "      <th>...</th>\n",
       "      <th>BILL_AMT3</th>\n",
       "      <th>BILL_AMT4</th>\n",
       "      <th>BILL_AMT5</th>\n",
       "      <th>BILL_AMT6</th>\n",
       "      <th>PAY_AMT1</th>\n",
       "      <th>PAY_AMT2</th>\n",
       "      <th>PAY_AMT3</th>\n",
       "      <th>PAY_AMT4</th>\n",
       "      <th>PAY_AMT5</th>\n",
       "      <th>PAY_AMT6</th>\n",
       "    </tr>\n",
       "  </thead>\n",
       "  <tbody>\n",
       "    <tr>\n",
       "      <th>0</th>\n",
       "      <td>20000.0</td>\n",
       "      <td>2</td>\n",
       "      <td>2</td>\n",
       "      <td>1</td>\n",
       "      <td>24</td>\n",
       "      <td>2</td>\n",
       "      <td>2</td>\n",
       "      <td>-1</td>\n",
       "      <td>-1</td>\n",
       "      <td>-1</td>\n",
       "      <td>...</td>\n",
       "      <td>689.0</td>\n",
       "      <td>0.0</td>\n",
       "      <td>0.0</td>\n",
       "      <td>0.0</td>\n",
       "      <td>0.0</td>\n",
       "      <td>689.0</td>\n",
       "      <td>0.0</td>\n",
       "      <td>0.0</td>\n",
       "      <td>0.0</td>\n",
       "      <td>0.0</td>\n",
       "    </tr>\n",
       "    <tr>\n",
       "      <th>1</th>\n",
       "      <td>120000.0</td>\n",
       "      <td>2</td>\n",
       "      <td>2</td>\n",
       "      <td>2</td>\n",
       "      <td>26</td>\n",
       "      <td>-1</td>\n",
       "      <td>2</td>\n",
       "      <td>-1</td>\n",
       "      <td>-1</td>\n",
       "      <td>-1</td>\n",
       "      <td>...</td>\n",
       "      <td>2682.0</td>\n",
       "      <td>3272.0</td>\n",
       "      <td>3455.0</td>\n",
       "      <td>3261.0</td>\n",
       "      <td>0.0</td>\n",
       "      <td>1000.0</td>\n",
       "      <td>1000.0</td>\n",
       "      <td>1000.0</td>\n",
       "      <td>0.0</td>\n",
       "      <td>2000.0</td>\n",
       "    </tr>\n",
       "    <tr>\n",
       "      <th>2</th>\n",
       "      <td>90000.0</td>\n",
       "      <td>2</td>\n",
       "      <td>2</td>\n",
       "      <td>2</td>\n",
       "      <td>34</td>\n",
       "      <td>-1</td>\n",
       "      <td>-1</td>\n",
       "      <td>-1</td>\n",
       "      <td>-1</td>\n",
       "      <td>-1</td>\n",
       "      <td>...</td>\n",
       "      <td>13559.0</td>\n",
       "      <td>14331.0</td>\n",
       "      <td>14948.0</td>\n",
       "      <td>15549.0</td>\n",
       "      <td>1518.0</td>\n",
       "      <td>1500.0</td>\n",
       "      <td>1000.0</td>\n",
       "      <td>1000.0</td>\n",
       "      <td>1000.0</td>\n",
       "      <td>5000.0</td>\n",
       "    </tr>\n",
       "    <tr>\n",
       "      <th>3</th>\n",
       "      <td>50000.0</td>\n",
       "      <td>2</td>\n",
       "      <td>2</td>\n",
       "      <td>1</td>\n",
       "      <td>37</td>\n",
       "      <td>-1</td>\n",
       "      <td>-1</td>\n",
       "      <td>-1</td>\n",
       "      <td>-1</td>\n",
       "      <td>-1</td>\n",
       "      <td>...</td>\n",
       "      <td>49291.0</td>\n",
       "      <td>28314.0</td>\n",
       "      <td>28959.0</td>\n",
       "      <td>29547.0</td>\n",
       "      <td>2000.0</td>\n",
       "      <td>2019.0</td>\n",
       "      <td>1200.0</td>\n",
       "      <td>1100.0</td>\n",
       "      <td>1069.0</td>\n",
       "      <td>1000.0</td>\n",
       "    </tr>\n",
       "    <tr>\n",
       "      <th>4</th>\n",
       "      <td>50000.0</td>\n",
       "      <td>1</td>\n",
       "      <td>2</td>\n",
       "      <td>1</td>\n",
       "      <td>57</td>\n",
       "      <td>-1</td>\n",
       "      <td>-1</td>\n",
       "      <td>-1</td>\n",
       "      <td>-1</td>\n",
       "      <td>-1</td>\n",
       "      <td>...</td>\n",
       "      <td>35835.0</td>\n",
       "      <td>20940.0</td>\n",
       "      <td>19146.0</td>\n",
       "      <td>19131.0</td>\n",
       "      <td>2000.0</td>\n",
       "      <td>36681.0</td>\n",
       "      <td>10000.0</td>\n",
       "      <td>9000.0</td>\n",
       "      <td>689.0</td>\n",
       "      <td>679.0</td>\n",
       "    </tr>\n",
       "  </tbody>\n",
       "</table>\n",
       "<p>5 rows × 23 columns</p>\n",
       "</div>"
      ],
      "text/plain": [
       "   LIMIT_BAL  SEX  EDUCATION  MARRIAGE  AGE  PAY_1  PAY_2  PAY_3  PAY_4  \\\n",
       "0    20000.0    2          2         1   24      2      2     -1     -1   \n",
       "1   120000.0    2          2         2   26     -1      2     -1     -1   \n",
       "2    90000.0    2          2         2   34     -1     -1     -1     -1   \n",
       "3    50000.0    2          2         1   37     -1     -1     -1     -1   \n",
       "4    50000.0    1          2         1   57     -1     -1     -1     -1   \n",
       "\n",
       "   PAY_5  ...  BILL_AMT3  BILL_AMT4  BILL_AMT5  BILL_AMT6  PAY_AMT1  PAY_AMT2  \\\n",
       "0     -1  ...      689.0        0.0        0.0        0.0       0.0     689.0   \n",
       "1     -1  ...     2682.0     3272.0     3455.0     3261.0       0.0    1000.0   \n",
       "2     -1  ...    13559.0    14331.0    14948.0    15549.0    1518.0    1500.0   \n",
       "3     -1  ...    49291.0    28314.0    28959.0    29547.0    2000.0    2019.0   \n",
       "4     -1  ...    35835.0    20940.0    19146.0    19131.0    2000.0   36681.0   \n",
       "\n",
       "   PAY_AMT3  PAY_AMT4  PAY_AMT5  PAY_AMT6  \n",
       "0       0.0       0.0       0.0       0.0  \n",
       "1    1000.0    1000.0       0.0    2000.0  \n",
       "2    1000.0    1000.0    1000.0    5000.0  \n",
       "3    1200.0    1100.0    1069.0    1000.0  \n",
       "4   10000.0    9000.0     689.0     679.0  \n",
       "\n",
       "[5 rows x 23 columns]"
      ]
     },
     "execution_count": 18,
     "metadata": {},
     "output_type": "execute_result"
    }
   ],
   "source": [
    "X = df.drop(['default.payment.next.month','Age_category'], axis=1)\n",
    "y = df['default.payment.next.month']\n",
    "X.head()"
   ]
  },
  {
   "cell_type": "code",
   "execution_count": 19,
   "metadata": {
    "execution": {
     "iopub.execute_input": "2021-10-08T10:34:46.270983Z",
     "iopub.status.busy": "2021-10-08T10:34:46.266278Z",
     "iopub.status.idle": "2021-10-08T10:34:46.284886Z",
     "shell.execute_reply": "2021-10-08T10:34:46.285669Z",
     "shell.execute_reply.started": "2021-10-08T10:14:34.528145Z"
    },
    "papermill": {
     "duration": 0.058806,
     "end_time": "2021-10-08T10:34:46.285894",
     "exception": false,
     "start_time": "2021-10-08T10:34:46.227088",
     "status": "completed"
    },
    "tags": []
   },
   "outputs": [
    {
     "name": "stdout",
     "output_type": "stream",
     "text": [
      "(24000, 23) (24000,)\n",
      "(6000, 23) (6000,)\n"
     ]
    }
   ],
   "source": [
    "X_train, X_test, y_train, y_test = train_test_split(X,y,test_size=0.2, random_state=10)\n",
    "print(X_train.shape, y_train.shape)\n",
    "print(X_test.shape, y_test.shape)"
   ]
  },
  {
   "cell_type": "markdown",
   "metadata": {
    "papermill": {
     "duration": 0.036622,
     "end_time": "2021-10-08T10:34:46.359807",
     "exception": false,
     "start_time": "2021-10-08T10:34:46.323185",
     "status": "completed"
    },
    "tags": []
   },
   "source": [
    "# Building Model  "
   ]
  },
  {
   "cell_type": "code",
   "execution_count": 20,
   "metadata": {
    "execution": {
     "iopub.execute_input": "2021-10-08T10:34:46.443275Z",
     "iopub.status.busy": "2021-10-08T10:34:46.442584Z",
     "iopub.status.idle": "2021-10-08T10:34:46.792303Z",
     "shell.execute_reply": "2021-10-08T10:34:46.791345Z",
     "shell.execute_reply.started": "2021-10-08T10:14:34.553872Z"
    },
    "papermill": {
     "duration": 0.395229,
     "end_time": "2021-10-08T10:34:46.792456",
     "exception": false,
     "start_time": "2021-10-08T10:34:46.397227",
     "status": "completed"
    },
    "tags": []
   },
   "outputs": [
    {
     "name": "stdout",
     "output_type": "stream",
     "text": [
      "Model1 Accuracy score is : 81.53333333333333\n",
      "              precision    recall  f1-score   support\n",
      "\n",
      "           0       0.83      0.96      0.89      4683\n",
      "           1       0.68      0.30      0.41      1317\n",
      "\n",
      "    accuracy                           0.82      6000\n",
      "   macro avg       0.76      0.63      0.65      6000\n",
      "weighted avg       0.80      0.82      0.79      6000\n",
      "\n"
     ]
    },
    {
     "data": {
      "image/png": "[encoded data removed]",
      "text/plain": [
       "<Figure size 432x288 with 2 Axes>"
      ]
     },
     "metadata": {
      "needs_background": "light"
     },
     "output_type": "display_data"
    }
   ],
   "source": [
    "model1 = RidgeClassifier()\n",
    "\n",
    "model1.fit(X_train, y_train)\n",
    "\n",
    "model1_acc = model1.score(X_test, y_test)*100\n",
    "\n",
    "print('Model1 Accuracy score is :', model1_acc)\n",
    "\n",
    "print( classification_report(y_test, model1.predict(X_test)) )\n",
    "\n",
    "plot_confusion_matrix(model1, X_test, y_test, cmap=\"Blues_r\")\n",
    "\n",
    "plt.show()"
   ]
  },
  {
   "cell_type": "code",
   "execution_count": 21,
   "metadata": {
    "execution": {
     "iopub.execute_input": "2021-10-08T10:34:46.878538Z",
     "iopub.status.busy": "2021-10-08T10:34:46.877219Z",
     "iopub.status.idle": "2021-10-08T10:34:47.667890Z",
     "shell.execute_reply": "2021-10-08T10:34:47.666890Z",
     "shell.execute_reply.started": "2021-10-08T10:14:34.917817Z"
    },
    "papermill": {
     "duration": 0.836711,
     "end_time": "2021-10-08T10:34:47.668068",
     "exception": false,
     "start_time": "2021-10-08T10:34:46.831357",
     "status": "completed"
    },
    "tags": []
   },
   "outputs": [
    {
     "name": "stdout",
     "output_type": "stream",
     "text": [
      "Model2 Accuracy score is : 81.06666666666666\n",
      "              precision    recall  f1-score   support\n",
      "\n",
      "           0       0.84      0.93      0.88      4683\n",
      "           1       0.61      0.38      0.47      1317\n",
      "\n",
      "    accuracy                           0.81      6000\n",
      "   macro avg       0.73      0.65      0.68      6000\n",
      "weighted avg       0.79      0.81      0.79      6000\n",
      "\n"
     ]
    },
    {
     "data": {
      "image/png": "[encoded data removed]",
      "text/plain": [
       "<Figure size 432x288 with 2 Axes>"
      ]
     },
     "metadata": {
      "needs_background": "light"
     },
     "output_type": "display_data"
    }
   ],
   "source": [
    "model2 = DecisionTreeClassifier(criterion='entropy', max_depth=10)\n",
    "\n",
    "model2.fit(X_train, y_train)\n",
    "\n",
    "model2_acc = model2.score(X_test, y_test)*100\n",
    "\n",
    "print('Model2 Accuracy score is :', model2_acc)\n",
    "\n",
    "print( classification_report(y_test, model2.predict(X_test)) )\n",
    "\n",
    "plot_confusion_matrix(model2, X_test, y_test, cmap=\"Blues_r\")\n",
    "\n",
    "plt.show()"
   ]
  },
  {
   "cell_type": "code",
   "execution_count": 22,
   "metadata": {
    "execution": {
     "iopub.execute_input": "2021-10-08T10:34:47.755158Z",
     "iopub.status.busy": "2021-10-08T10:34:47.754422Z",
     "iopub.status.idle": "2021-10-08T10:34:52.529689Z",
     "shell.execute_reply": "2021-10-08T10:34:52.530216Z",
     "shell.execute_reply.started": "2021-10-08T10:14:35.730187Z"
    },
    "papermill": {
     "duration": 4.823581,
     "end_time": "2021-10-08T10:34:52.530414",
     "exception": false,
     "start_time": "2021-10-08T10:34:47.706833",
     "status": "completed"
    },
    "tags": []
   },
   "outputs": [
    {
     "name": "stdout",
     "output_type": "stream",
     "text": [
      "Model3 Accuracy score is : 82.55\n",
      "              precision    recall  f1-score   support\n",
      "\n",
      "           0       0.84      0.96      0.90      4683\n",
      "           1       0.70      0.36      0.48      1317\n",
      "\n",
      "    accuracy                           0.83      6000\n",
      "   macro avg       0.77      0.66      0.69      6000\n",
      "weighted avg       0.81      0.83      0.80      6000\n",
      "\n"
     ]
    },
    {
     "data": {
      "image/png": "[encoded data removed]",
      "text/plain": [
       "<Figure size 432x288 with 2 Axes>"
      ]
     },
     "metadata": {
      "needs_background": "light"
     },
     "output_type": "display_data"
    }
   ],
   "source": [
    "model3 = RandomForestClassifier(max_depth=10, n_estimators=500)\n",
    "\n",
    "model3.fit(X_train, y_train)\n",
    "\n",
    "model3_acc = model3.score(X_test, y_test)*100\n",
    "\n",
    "print('Model3 Accuracy score is :', model3_acc)\n",
    "\n",
    "print( classification_report(y_test, model3.predict(X_test)) )\n",
    "\n",
    "plot_confusion_matrix(model3, X_test, y_test, cmap=\"Blues_r\")\n",
    "\n",
    "plt.show()"
   ]
  },
  {
   "cell_type": "markdown",
   "metadata": {
    "papermill": {
     "duration": 0.041901,
     "end_time": "2021-10-08T10:49:49.949390",
     "exception": false,
     "start_time": "2021-10-08T10:49:49.907489",
     "status": "completed"
    },
    "tags": []
   },
   "source": [
    "# Visualizing Model Accuracy"
   ]
  },
  {
   "cell_type": "code",
   "execution_count": 23,
   "metadata": {
    "execution": {
     "iopub.execute_input": "2021-10-08T10:49:50.055365Z",
     "iopub.status.busy": "2021-10-08T10:49:50.054607Z",
     "iopub.status.idle": "2021-10-08T10:49:50.203289Z",
     "shell.execute_reply": "2021-10-08T10:49:50.202739Z",
     "shell.execute_reply.started": "2021-10-08T10:30:17.459516Z"
    },
    "papermill": {
     "duration": 0.211802,
     "end_time": "2021-10-08T10:49:50.203449",
     "exception": false,
     "start_time": "2021-10-08T10:49:49.991647",
     "status": "completed"
    },
    "tags": []
   },
   "outputs": [
    {
     "data": {
      "image/png": "[encoded data removed]",
      "text/plain": [
       "<Figure size 1080x360 with 1 Axes>"
      ]
     },
     "metadata": {
      "needs_background": "light"
     },
     "output_type": "display_data"
    }
   ],
   "source": [
    "models = ['RidgeClassifier', 'DecisionTree', 'RandomTree']\n",
    "\n",
    "acc = [model1_acc, model2_acc, model3_acc]\n",
    "\n",
    "plt.figure(figsize=(15,5))\n",
    "plt.barh(models, acc)\n",
    "  \n",
    "for index, value in enumerate(acc):\n",
    "    plt.text(value, index,\n",
    "             str(\"%.2f\"%value))\n",
    "plt.title(\"Model Accuracy\")\n",
    "plt.show()"
   ]
  },
  {
   "cell_type": "markdown",
   "metadata": {
    "papermill": {
     "duration": 0.044667,
     "end_time": "2021-10-08T10:49:50.295403",
     "exception": false,
     "start_time": "2021-10-08T10:49:50.250736",
     "status": "completed"
    },
    "tags": []
   },
   "source": [
    "# Conclusion"
   ]
  },
  {
   "cell_type": "markdown",
   "metadata": {
    "papermill": {
     "duration": 0.044188,
     "end_time": "2021-10-08T10:49:50.384703",
     "exception": false,
     "start_time": "2021-10-08T10:49:50.340515",
     "status": "completed"
    },
    "tags": []
   },
   "source": [
    "### RandomForrestClassfier gives us the best result"
   ]
  },
  {
   "cell_type": "code",
   "execution_count": 24,
   "metadata": {},
   "outputs": [],
   "source": [
    "pickle.dump(model3, open('model.pkl','wb'))"
   ]
  },
  {
   "cell_type": "code",
   "execution_count": 25,
   "metadata": {},
   "outputs": [
    {
     "data": {
      "text/plain": [
       "array([1, 2, 3], dtype=int64)"
      ]
     },
     "execution_count": 25,
     "metadata": {},
     "output_type": "execute_result"
    }
   ],
   "source": [
    "np.unique(X_test.MARRIAGE)"
   ]
  },
  {
   "cell_type": "code",
   "execution_count": 26,
   "metadata": {},
   "outputs": [
    {
     "data": {
      "text/plain": [
       "Index(['LIMIT_BAL', 'SEX', 'EDUCATION', 'MARRIAGE', 'AGE', 'PAY_1', 'PAY_2',\n",
       "       'PAY_3', 'PAY_4', 'PAY_5', 'PAY_6', 'BILL_AMT1', 'BILL_AMT2',\n",
       "       'BILL_AMT3', 'BILL_AMT4', 'BILL_AMT5', 'BILL_AMT6', 'PAY_AMT1',\n",
       "       'PAY_AMT2', 'PAY_AMT3', 'PAY_AMT4', 'PAY_AMT5', 'PAY_AMT6'],\n",
       "      dtype='object')"
      ]
     },
     "execution_count": 26,
     "metadata": {},
     "output_type": "execute_result"
    }
   ],
   "source": [
    "X.columns"
   ]
  },
  {
   "cell_type": "code",
   "execution_count": 29,
   "metadata": {},
   "outputs": [
    {
     "data": {
      "text/plain": [
       "5195"
      ]
     },
     "execution_count": 29,
     "metadata": {},
     "output_type": "execute_result"
    }
   ],
   "source": [
    "len(np.unique(X_test.BILL_AMT1))"
   ]
  }
 ],
 "metadata": {
  "interpreter": {
   "hash": "ac59ebe37160ed0dfa835113d9b8498d9f09ceb179beaac4002f036b9467c963"
  },
  "kernelspec": {
   "display_name": "Python 3.9.0 64-bit",
   "name": "python3"
  },
  "language_info": {
   "codemirror_mode": {
    "name": "ipython",
    "version": 3
   },
   "file_extension": ".py",
   "mimetype": "text/x-python",
   "name": "python",
   "nbconvert_exporter": "python",
   "pygments_lexer": "ipython3",
   "version": "3.9.0"
  },
  "papermill": {
   "default_parameters": {},
   "duration": 919.055419,
   "end_time": "2021-10-08T10:49:51.145397",
   "environment_variables": {},
   "exception": null,
   "input_path": "__notebook__.ipynb",
   "output_path": "__notebook__.ipynb",
   "parameters": {},
   "start_time": "2021-10-08T10:34:32.089978",
   "version": "2.3.3"
  }
 },
 "nbformat": 4,
 "nbformat_minor": 5
}
